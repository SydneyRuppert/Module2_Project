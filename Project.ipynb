{
 "cells": [
  {
   "cell_type": "code",
   "execution_count": 49,
   "id": "ebe0ed11",
   "metadata": {},
   "outputs": [
    {
     "name": "stdout",
     "output_type": "stream",
     "text": [
      "Welcome to the North Parking Garage!\n",
      "Enter Y for yes if you would like to park in the garage.y\n",
      "Now the spaces left are: \n",
      "[0, 1, 2, 3, 4, 5, 6, 7, 8, 9]\n",
      "To exit the garage please enter 1 to pay. 1\n",
      "Your ticket has been paid.You have 15 minutes to exit the garage.\n",
      "Thank you. Have a nice day!\n",
      "Would you like to see the current spaces available. Press Y for Yes.y\n",
      "[0, 1, 2, 3, 4, 5, 6, 7, 8, 9, 10]\n"
     ]
    }
   ],
   "source": [
    "#create a class called garage\n",
    "\n",
    "class Garage():\n",
    "    \n",
    "    def __init__(self):\n",
    "        self.tickets=[0,1,2,3,4,5,6,7,8,9,10]\n",
    "        self.parkingSpaces=[0,1,2,3,4,5,6,7,8,9,10]\n",
    "        self.currentTicket={}\n",
    "        \n",
    "        \n",
    "        \n",
    "        \n",
    "    def takeTicket(self):\n",
    "            if len(self.parkingSpaces)==0:\n",
    "                print('Sorry, the parking garage is currently full.')\n",
    "#if it is not full: subtract a space in parkingSpaces and the tickets in takeTickets\n",
    "            else:\n",
    "                self.tickets.remove(self.tickets[-1])\n",
    "                self.parkingSpaces.remove(self.parkingSpaces[-1])\n",
    "                print('Now the spaces left are: ')\n",
    "                print((self.parkingSpaces))\n",
    "                \n",
    " #in pay for parking the customer will pay and we will change the current ticket dictionary to True               \n",
    "    def payForParking(self):\n",
    "        pay=input('To exit the garage please enter 1 to pay. ')\n",
    "        if pay=='1':\n",
    "            self.currentTicket['Paid']=True\n",
    "            print('Your ticket has been paid.You have 15 minutes to exit the garage.')\n",
    "            \n",
    "        else:\n",
    "            print('Please try again. Payment was not successful.')\n",
    "            \n",
    "#in the function for leaveGarage the amount of tickets will increase by one and so will the spaces available\n",
    "    def leaveGarage(self):\n",
    "        if self.currentTicket['Paid']==True:\n",
    "            print('Thank you. Have a nice day!')\n",
    "            self.tickets.append(self.tickets[-1]+1)\n",
    "            self.parkingSpaces.append(self.parkingSpaces[-1]+1)\n",
    "        else:\n",
    "            print('You still have one unpaid parking ticket.')\n",
    "    def showAvailableSpots(self):\n",
    "        check=input('Would you like to see the current spaces available. Press Y for Yes.')\n",
    "        if check.upper()=='Y':\n",
    "            print(self.parkingSpaces)\n",
    "        else:\n",
    "            print('Thank you! Have a great day!')\n",
    "            \n",
    "        \n",
    "def run():\n",
    "    car= Garage()\n",
    "    print('Welcome to the North Parking Garage!')\n",
    "    taken=input('Enter Y for yes if you would like to park in the garage.')\n",
    "    if taken.lower()=='y':\n",
    "        car.takeTicket()\n",
    "        car.payForParking()\n",
    "        car.leaveGarage()\n",
    "        car.showAvailableSpots()\n",
    "    else:\n",
    "        print('You have selected to not park in the Garage. Have a good day!')\n",
    "\n",
    "run()\n",
    "            \n",
    "        \n",
    "        "
   ]
  },
  {
   "cell_type": "code",
   "execution_count": null,
   "id": "5f08244e",
   "metadata": {},
   "outputs": [],
   "source": []
  },
  {
   "cell_type": "code",
   "execution_count": null,
   "id": "19df98fb",
   "metadata": {},
   "outputs": [],
   "source": []
  }
 ],
 "metadata": {
  "kernelspec": {
   "display_name": "Python 3 (ipykernel)",
   "language": "python",
   "name": "python3"
  },
  "language_info": {
   "codemirror_mode": {
    "name": "ipython",
    "version": 3
   },
   "file_extension": ".py",
   "mimetype": "text/x-python",
   "name": "python",
   "nbconvert_exporter": "python",
   "pygments_lexer": "ipython3",
   "version": "3.11.3"
  }
 },
 "nbformat": 4,
 "nbformat_minor": 5
}
